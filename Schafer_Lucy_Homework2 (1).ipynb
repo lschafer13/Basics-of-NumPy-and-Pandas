{
  "nbformat": 4,
  "nbformat_minor": 0,
  "metadata": {
    "colab": {
      "name": "Schafer_Lucy_Homework2.ipynb",
      "provenance": [],
      "collapsed_sections": []
    },
    "kernelspec": {
      "name": "python3",
      "display_name": "Python 3"
    }
  },
  "cells": [
    {
      "cell_type": "markdown",
      "metadata": {
        "id": "bNsIruOzI4iF"
      },
      "source": [
        "## **Homework 2**\n",
        "\n",
        "### Create a copy of the notebook to start answering the questions. Name your notebook in the format HW2_lastname_firstname.ipynb to facilitate the grading process. \n",
        "\n",
        "### Answer all the questions, test your code to ensure there are no errors and the results are as expected. Once you have answered all the questions, save the final copy, then go to File-> click on Download.ipynb. Once the local copy has been downloaded, submit your file on Blackboard under the corresponding assignment section. Also provide us a link to your notebook during submission. \n",
        "\n",
        "### **The due date of this homework is 02/12/2021 (Friday).**\n",
        "\n",
        "### Please ensure you follow all the steps mentioned in the homework.\n",
        "\n",
        "### All the questions have a sample input and output to help you understand the question.\n",
        "\n",
        "### You can submit your solutions any number of times until the deadline.\n"
      ]
    },
    {
      "cell_type": "markdown",
      "metadata": {
        "id": "U3Yz3s2uio1F"
      },
      "source": [
        "**Q1. Lets consider your data is like the below cell:**\n",
        "\n",
        "**Q1-1**: Write a program that create a dataframe from the data.\n",
        "\n",
        "**Q1-2:** Select people that are psychologist or teacher and their number of cars is greater than their family size.\n",
        "\n",
        "**Q1-3:** Select people who have at most 2 family members and at least 1 car.\n",
        "\n",
        "**Q1-4:** Write a code that get number of unique jobs in this dataset.\n",
        "\n",
        "\n",
        "\n"
      ]
    },
    {
      "cell_type": "code",
      "metadata": {
        "id": "yR8lcOtcjxXD"
      },
      "source": [
        "data = {\"name\": [\"Joseph\", \"Jacob\", \"Sam\", \"Jesee\", \"Ryan\", \"Lisa\", \"Lee\"],\n",
        "        \"job\": [\"teacher\", \"psychologist\", \"data scientist\", \"software developer\", \"psychologist\", \"psychologist\", \"teacher\"],\n",
        "        \"family_size\": [3, 2, 1, 4, 2, 3, 2],\n",
        "        \"num_cars\": [3, 1, 1, 2, 2, 4, 1]}\n",
        "import numpy as np\n",
        "import pandas as pd"
      ],
      "execution_count": null,
      "outputs": []
    },
    {
      "cell_type": "code",
      "metadata": {
        "id": "Youi5qMaP34p",
        "colab": {
          "base_uri": "https://localhost:8080/"
        },
        "outputId": "00165faa-185a-4628-f99d-84c8344c34c6"
      },
      "source": [
        "# Type your solution here\n",
        "# Q1-1\n",
        "df = pd.DataFrame(data)\n",
        "print(df)\n",
        "\n",
        "# Q1-2\n",
        "print(\"\\n\")\n",
        "q2 = df.loc[df.num_cars>df.family_size],[\"psychologist\", \"teacher\"]\n",
        "print(q2)\n",
        "\n",
        "# Q1-3\n",
        "print(\"\\n\")\n",
        "q3 = df[df.family_size <= 2],[df.num_cars >= 1]\n",
        "print(q3)\n",
        "\n",
        "# Q1-4\n",
        "print(\"\\n\")\n",
        "q4 = len(set(df.job))\n",
        "print(\"Num of unique jobs:\", q4)"
      ],
      "execution_count": null,
      "outputs": [
        {
          "output_type": "stream",
          "text": [
            "     name                 job  family_size  num_cars\n",
            "0  Joseph             teacher            3         3\n",
            "1   Jacob        psychologist            2         1\n",
            "2     Sam      data scientist            1         1\n",
            "3   Jesee  software developer            4         2\n",
            "4    Ryan        psychologist            2         2\n",
            "5    Lisa        psychologist            3         4\n",
            "6     Lee             teacher            2         1\n",
            "\n",
            "\n",
            "(   name           job  family_size  num_cars\n",
            "5  Lisa  psychologist            3         4, ['psychologist', 'teacher'])\n",
            "\n",
            "\n",
            "(    name             job  family_size  num_cars\n",
            "1  Jacob    psychologist            2         1\n",
            "2    Sam  data scientist            1         1\n",
            "4   Ryan    psychologist            2         2\n",
            "6    Lee         teacher            2         1, [0    True\n",
            "1    True\n",
            "2    True\n",
            "3    True\n",
            "4    True\n",
            "5    True\n",
            "6    True\n",
            "Name: num_cars, dtype: bool])\n",
            "\n",
            "\n",
            "Num of unique jobs 4\n"
          ],
          "name": "stdout"
        }
      ]
    },
    {
      "cell_type": "markdown",
      "metadata": {
        "id": "Ow6nG8k4l91X"
      },
      "source": [
        "**Q2. Lets consider you have two series like the below cell. Compute the mean of weights of each fruit.**"
      ]
    },
    {
      "cell_type": "code",
      "metadata": {
        "id": "u-X_DoOzVLLB"
      },
      "source": [
        "import numpy as np\n",
        "fruit = pd.Series(np.random.choice(['apple', 'banana', 'carrot'], 10))\n",
        "weights = pd.Series(np.linspace(1, 10, 10))"
      ],
      "execution_count": null,
      "outputs": []
    },
    {
      "cell_type": "code",
      "metadata": {
        "id": "S419nzYnpU__",
        "colab": {
          "base_uri": "https://localhost:8080/"
        },
        "outputId": "da4df29b-a82a-4675-a18a-fe3318701662"
      },
      "source": [
        "fruitDic = {\"apple\":[], \"banana\":[], \"carrot\":[]}\n",
        "for i in range(10):\n",
        "  if fruit[i] == \"apple\":\n",
        "    fruitDic[\"apple\"].append(weights[i])\n",
        "  elif fruit[i] == \"banana\":\n",
        "    fruitDic[\"banana\"].append(weights[i])\n",
        "  elif fruit[i] == \"carrot\":\n",
        "    fruitDic[\"carrot\"].append(weights[i])\n",
        "\n",
        "# now i have a dictionary with all each fruit as a key, and all the weights as values in a list\n",
        "print(fruitDic)\n",
        "\n",
        "# so find the mean for each fruit's values\n",
        "for key in fruitDic: \n",
        "  mean = np.mean(fruitDic[key])\n",
        "  print(key, \"average weight:\", mean)\n",
        "    "
      ],
      "execution_count": null,
      "outputs": [
        {
          "output_type": "stream",
          "text": [
            "{'apple': [5.0, 7.0], 'banana': [2.0, 3.0, 4.0, 6.0, 8.0, 9.0, 10.0], 'carrot': [1.0]}\n",
            "apple average weight: 6.0\n",
            "banana average weight: 6.0\n",
            "carrot average weight: 1.0\n"
          ],
          "name": "stdout"
        }
      ]
    },
    {
      "cell_type": "markdown",
      "metadata": {
        "id": "g4lKaPIhtVrt"
      },
      "source": [
        "**Q3. Consider the below course_name array:**\n",
        "\n",
        "**Q3-1**: Write a NumPy program to get the indices of the sorted elements of **course_name** array.\n",
        "\n",
        "**Q3-2:** Write numpy code to check whether each element of **course_name** array starts with \"P\".\n"
      ]
    },
    {
      "cell_type": "code",
      "metadata": {
        "id": "RUP_jp2KtVrx"
      },
      "source": [
        "import numpy as np\n",
        "course_name = np.array(['Python', 'JS', 'examples', 'PHP', 'html'])"
      ],
      "execution_count": null,
      "outputs": []
    },
    {
      "cell_type": "code",
      "metadata": {
        "id": "U1i27POxv-o_",
        "colab": {
          "base_uri": "https://localhost:8080/"
        },
        "outputId": "2c5ed283-7876-4cc6-ad42-177e7e0bec3b"
      },
      "source": [
        "# Q3-1\n",
        "print(\"\\n\")\n",
        "print(np.where(np.sort(course_name)))\n",
        "\n",
        "# Q3-2\n",
        "print(\"\\n\")\n",
        "p = True \n",
        "while p == True: \n",
        "  for element in course_name:\n",
        "    if np.char.startswith(element, \"P\"):\n",
        "      p = True\n",
        "    else:\n",
        "      p = False\n",
        "print(p)\n"
      ],
      "execution_count": null,
      "outputs": [
        {
          "output_type": "stream",
          "text": [
            "\n",
            "\n",
            "(array([0, 1, 2, 3, 4]),)\n",
            "\n",
            "\n",
            "False\n"
          ],
          "name": "stdout"
        }
      ]
    },
    {
      "cell_type": "markdown",
      "metadata": {
        "id": "sUFItNFOxwkz"
      },
      "source": [
        "**Q4. Consider the below student_id array:**\n",
        "\n",
        "**Q4-1:** Reverse the **student_id** array. Print both original and reversed array.\n",
        "\n",
        "**Q4-2:** Get the 3-largest values of **student_id** array."
      ]
    },
    {
      "cell_type": "code",
      "metadata": {
        "id": "Rl5qzEjFv0nw"
      },
      "source": [
        "import numpy as np\n",
        "student_id = np.array([1023, 5202, 6230, 1671, 1682, 5241, 4532])"
      ],
      "execution_count": null,
      "outputs": []
    },
    {
      "cell_type": "code",
      "metadata": {
        "id": "EetvHGrUxMCC",
        "colab": {
          "base_uri": "https://localhost:8080/"
        },
        "outputId": "35f17e28-7c67-4afa-8431-cfaa6af3fd91"
      },
      "source": [
        "# Q4-1\n",
        "print(\"\\n\")\n",
        "print(student_id)\n",
        "print(np.flip(student_id))\n",
        "\n",
        "# Q4-2\n",
        "print(\"\\n\")\n",
        "print((np.sort(student_id)[-3:]))\n"
      ],
      "execution_count": null,
      "outputs": [
        {
          "output_type": "stream",
          "text": [
            "\n",
            "\n",
            "[1023 5202 6230 1671 1682 5241 4532]\n",
            "[4532 5241 1682 1671 6230 5202 1023]\n",
            "\n",
            "\n",
            "[5202 5241 6230]\n"
          ],
          "name": "stdout"
        }
      ]
    },
    {
      "cell_type": "markdown",
      "metadata": {
        "id": "uKRyDVuW6B19"
      },
      "source": [
        "# **Q5: Write a numpy program to print sum of all the multiples of 3 or 5 below 100**"
      ]
    },
    {
      "cell_type": "code",
      "metadata": {
        "id": "ZIixq1gz6OK3",
        "colab": {
          "base_uri": "https://localhost:8080/"
        },
        "outputId": "7c4c8223-5a02-4c27-bfa2-2f1a3a4be298"
      },
      "source": [
        "# Type your solution here\n",
        "arr = np.arange(100)\n",
        "multipleOf3 = np.where(arr % 3 == 0)\n",
        "print(\"sum of multiples of 3:\", np.sum(multipleOf3))\n",
        "\n",
        "multipleOf5 = np.where(arr % 5 == 0)\n",
        "print(\"sum of multiples of 5:\", np.sum(multipleOf5))\n",
        "\n",
        "print(\"sum of multiples of 3 and 5 below 100:\", (np.sum(multipleOf5)+np.sum(multipleOf3)))"
      ],
      "execution_count": null,
      "outputs": [
        {
          "output_type": "stream",
          "text": [
            "sum of multiples of 3: 1683\n",
            "sum of multiples of 5: 950\n",
            "sum of multiples of 3 and 5 below 100: 2633\n"
          ],
          "name": "stdout"
        }
      ]
    },
    {
      "cell_type": "markdown",
      "metadata": {
        "id": "2CWJOsP24c34"
      },
      "source": [
        "**Q6. Consider the below array.**\n",
        "\n",
        "Q6.1. Write a code to swap column 1 with column 2.\n",
        "\n",
        "Q6.2. Write a code to swap row 0 with row 1."
      ]
    },
    {
      "cell_type": "code",
      "metadata": {
        "id": "3OG6X5Eg5KSM",
        "colab": {
          "base_uri": "https://localhost:8080/"
        },
        "outputId": "d3845525-dc15-4767-c488-b75e512ddfa0"
      },
      "source": [
        "import numpy as np\n",
        "\n",
        "arr = np.arange(12).reshape(3,4)\n",
        "print(arr)"
      ],
      "execution_count": null,
      "outputs": [
        {
          "output_type": "stream",
          "text": [
            "[[ 0  1  2  3]\n",
            " [ 4  5  6  7]\n",
            " [ 8  9 10 11]]\n"
          ],
          "name": "stdout"
        }
      ]
    },
    {
      "cell_type": "code",
      "metadata": {
        "id": "Q-Q91DpO5YYW",
        "colab": {
          "base_uri": "https://localhost:8080/"
        },
        "outputId": "567b0762-fae8-41e3-81bc-9c796a4c0d3e"
      },
      "source": [
        "# Q6-1\n",
        "arr[:,[1, 2]] = arr[:,[2, 1]]\n",
        "print(arr)\n",
        "\n",
        "# Q6-2\n",
        "print(\"\\n\")\n",
        "arr[[0,1],:] = arr[[1,0],:]\n",
        "print(arr)"
      ],
      "execution_count": null,
      "outputs": [
        {
          "output_type": "stream",
          "text": [
            "[[ 0  2  1  3]\n",
            " [ 4  6  5  7]\n",
            " [ 8 10  9 11]]\n",
            "\n",
            "\n",
            "[[ 4  6  5  7]\n",
            " [ 0  2  1  3]\n",
            " [ 8 10  9 11]]\n"
          ],
          "name": "stdout"
        }
      ]
    }
  ]
}